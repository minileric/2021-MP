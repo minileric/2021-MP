{
 "cells": [
  {
   "cell_type": "code",
   "execution_count": 28,
   "metadata": {},
   "outputs": [],
   "source": [
    "import numpy as np\n",
    "import matplotlib.pyplot as plt"
   ]
  },
  {
   "cell_type": "markdown",
   "metadata": {},
   "source": [
    "# 1. Найдите значение функции в точках 1, 5, 10, 100\n",
    "\n",
    "$$ y = \\log_{2x}|\\frac{e^{cos(x)^A}tan(x^2)}{\\frac{A}{9}x +\\sqrt{x^3}}| $$\n",
    "Где в качестве *A* подставьте дату (день) своего рождения.\n",
    "\n",
    "Обратите внимание на библиотеку numpy, она обеспечивает удобную работу с векторами (последовательностью данных) и в ней есть все математические функции и константы."
   ]
  },
  {
   "cell_type": "code",
   "execution_count": 29,
   "metadata": {},
   "outputs": [
    {
     "name": "stdout",
     "output_type": "stream",
     "text": [
      "y(1) =  0.8308360606824473\n",
      "y(5) =  1.0489733733998396\n",
      "y(10) =  1.1532559092256172\n",
      "y(100) =  1.3037642937293314\n"
     ]
    }
   ],
   "source": [
    "x = 1\n",
    "a = 18\n",
    "y = (np.log(abs(((np.e**((np.cos(x))**a)))*np.tan(x**2)) /((a*x)/9)+x**(3/2) )) / np.log(2*x)\n",
    "print(\"y(1) = \",y)\n",
    "\n",
    "x = 5\n",
    "y = (np.log(abs(((np.e**((np.cos(x))**a)))*np.tan(x**2)) /((a*x)/9)+x**(3/2) )) / np.log(2*x)\n",
    "print(\"y(5) = \",y)\n",
    "\n",
    "x = 10\n",
    "y = (np.log(abs(((np.e**((np.cos(x))**a)))*np.tan(x**2)) /((a*x)/9)+x**(3/2) )) / np.log(2*x)\n",
    "print(\"y(10) = \",y)\n",
    "\n",
    "x = 100\n",
    "y = (np.log(abs(((np.e**((np.cos(x))**a)))*np.tan(x**2)) /((a*x)/9)+x**(3/2) )) / np.log(2*x)\n",
    "print(\"y(100) = \",y)"
   ]
  },
  {
   "cell_type": "code",
   "execution_count": 55,
   "metadata": {},
   "outputs": [
    {
     "data": {
      "image/png": "[encoded data removed]",
      "text/plain": [
       "<Figure size 432x288 with 1 Axes>"
      ]
     },
     "metadata": {
      "needs_background": "light"
     },
     "output_type": "display_data"
    }
   ],
   "source": [
    "x = [0, 5, 10, 15, 20, 25, 30, 35, 40, 45, 50]\n",
    "y = [6.5, 4.1, 2.4, 1.4, 0.95, 0.6, 0.4, 0.25, 0.15, 0.1, 0.05]\n",
    "plt.errorbar(x, y, xerr=0.5, yerr=0.1)\n",
    "x1 = np.arange(0, 50, 0.1)\n",
    "y2 = 6.5*np.e**(-0.1*x1)\n",
    "plt.plot (x1,y2)\n",
    "plt.grid()\n",
    "plt.show()\n",
    "\n"
   ]
  },
  {
   "cell_type": "code",
   "execution_count": null,
   "metadata": {},
   "outputs": [],
   "source": []
  }
 ],
 "metadata": {
  "kernelspec": {
   "display_name": "Python 3",
   "language": "python",
   "name": "python3"
  },
  "language_info": {
   "codemirror_mode": {
    "name": "ipython",
    "version": 3
   },
   "file_extension": ".py",
   "mimetype": "text/x-python",
   "name": "python",
   "nbconvert_exporter": "python",
   "pygments_lexer": "ipython3",
   "version": "3.8.3"
  }
 },
 "nbformat": 4,
 "nbformat_minor": 4
}

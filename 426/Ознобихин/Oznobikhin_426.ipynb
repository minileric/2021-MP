{
 "cells": [
  {
   "cell_type": "code",
   "execution_count": 49,
   "metadata": {},
   "outputs": [
    {
     "name": "stdout",
     "output_type": "stream",
     "text": [
      "x = 0.03289985392873396\n"
     ]
    }
   ],
   "source": [
    "import numpy as np\n",
    "import matplotlib.pyplot as plt\n",
    "import math\n",
    "\n",
    "def f(x):\n",
    "    A = 9 # Ознобихин\n",
    "    B = 18\n",
    "    C = 2001 + 11*3\n",
    "    return (np.exp(A*x)+x**B+np.log(x**3)/np.log(C))\n",
    "\n",
    "\n",
    "e = 1.0e-12 # Погешность\n",
    "a = 0.0001 \n",
    "b = 1 \n",
    "c = (a+b)/2\n",
    "while abs(f(c)) > e:\n",
    "    if f(a)*f(c) < 0:\n",
    "        b = c # Сдвигаем правую границу\n",
    "    if f(b)*f(c) < 0:\n",
    "        a = c # Сдвигаем левую границу\n",
    "    c = (a+b)/2\n",
    "print (\"x =\",c)"
   ]
  }
 ],
 "metadata": {
  "kernelspec": {
   "display_name": "Python 3",
   "language": "python",
   "name": "python3"
  },
  "language_info": {
   "codemirror_mode": {
    "name": "ipython",
    "version": 3
   },
   "file_extension": ".py",
   "mimetype": "text/x-python",
   "name": "python",
   "nbconvert_exporter": "python",
   "pygments_lexer": "ipython3",
   "version": "3.8.3"
  }
 },
 "nbformat": 4,
 "nbformat_minor": 4
}

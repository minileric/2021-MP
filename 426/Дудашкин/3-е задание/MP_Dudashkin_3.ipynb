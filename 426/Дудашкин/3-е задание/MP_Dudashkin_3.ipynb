{
 "cells": [
  {
   "cell_type": "markdown",
   "metadata": {},
   "source": [
    "## $$y'+(2y+1)ctgx=0$$\n",
    "## с точностью $\\epsilon=10^{-12}$\n",
    "\n",
    "## методом половинного деления"
   ]
  },
  {
   "cell_type": "code",
   "execution_count": 11,
   "metadata": {},
   "outputs": [],
   "source": [
    "import numpy as np\n",
    "#y = 1/(2*C*sin(x)**2) - 0.5\n",
    "C = 2001 + 6*3\n",
    "f = lambda x: 1/(2*C*np.sin(x)**2) - 0.5\n",
    "a=0\n",
    "b=100\n",
    "e=10**(-12)\n",
    "c= (a+b)/2\n",
    "\n"
   ]
  },
  {
   "cell_type": "code",
   "execution_count": 12,
   "metadata": {},
   "outputs": [
    {
     "name": "stdout",
     "output_type": "stream",
     "text": [
      "Корень Х=  3.1638497085215267\n",
      "Значение функции в нашем корне =  1.858513343222512e-13\n"
     ]
    },
    {
     "name": "stderr",
     "output_type": "stream",
     "text": [
      "<ipython-input-11-ae85e99d6d70>:4: RuntimeWarning: divide by zero encountered in double_scalars\n",
      "  f = lambda x: 1/(2*C*np.sin(x)**2) - 0.5\n"
     ]
    }
   ],
   "source": [
    "while abs(f(c))> e:\n",
    "    if f(a)*f(c)<0:\n",
    "        b=c\n",
    "    else:\n",
    "        a=c\n",
    "    c=(a+b)/2\n",
    "print(\"Корень Х= \",c)\n",
    "print(\"Значение функции в нашем корне = \", f(c))"
   ]
  },
  {
   "cell_type": "code",
   "execution_count": null,
   "metadata": {},
   "outputs": [],
   "source": []
  },
  {
   "cell_type": "code",
   "execution_count": null,
   "metadata": {},
   "outputs": [],
   "source": []
  }
 ],
 "metadata": {
  "kernelspec": {
   "display_name": "Python 3",
   "language": "python",
   "name": "python3"
  },
  "language_info": {
   "codemirror_mode": {
    "name": "ipython",
    "version": 3
   },
   "file_extension": ".py",
   "mimetype": "text/x-python",
   "name": "python",
   "nbconvert_exporter": "python",
   "pygments_lexer": "ipython3",
   "version": "3.8.5"
  }
 },
 "nbformat": 4,
 "nbformat_minor": 4
}

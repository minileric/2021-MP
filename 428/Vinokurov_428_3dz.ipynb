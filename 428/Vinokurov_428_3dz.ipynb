{
 "cells": [
  {
   "cell_type": "markdown",
   "metadata": {},
   "source": [
    " **Выполнил:** Винокуров Олег группа 428\n",
    " \n",
    " \n",
    "**Написать в функциональном стиле задачу приближенного вычисления корней функции:**\n",
    "\n",
    "$$ 2(xy+y)y′+x(y4+1)=0 $$\n",
    "\n",
    "\n",
    "**c точностью:** $$ϵ=10−12$$"
   ]
  },
  {
   "cell_type": "markdown",
   "metadata": {},
   "source": [
    "Подключаю всякие библиотеки:"
   ]
  },
  {
   "cell_type": "code",
   "execution_count": 34,
   "metadata": {},
   "outputs": [],
   "source": [
    "import numpy as np\n",
    "import matplotlib.pyplot as plt\n",
    "import sympy\n",
    "from math import factorial"
   ]
  },
  {
   "cell_type": "markdown",
   "metadata": {},
   "source": [
    "Начальные условия:"
   ]
  },
  {
   "cell_type": "code",
   "execution_count": 35,
   "metadata": {},
   "outputs": [],
   "source": [
    "x=sympy.symbols('x')\n",
    "y=sympy.Function('y')(x)\n",
    "E=10**(-4)#Точность\n",
    "x0=0.5\n",
    "y0=1\n",
    "h=0.1\n",
    "yl=[] #Пустой список для 1й и 2й производной\n",
    "XX=[x0] #Пустой список для отрисовки(x)\n",
    "YY=[] #Пустой список для отрисовки(y)"
   ]
  },
  {
   "cell_type": "markdown",
   "metadata": {},
   "source": [
    "Сам метод:"
   ]
  },
  {
   "cell_type": "code",
   "execution_count": 36,
   "metadata": {},
   "outputs": [
    {
     "data": {
      "image/png": "[encoded data removed]",
      "text/plain": [
       "<Figure size 432x288 with 1 Axes>"
      ]
     },
     "metadata": {
      "needs_background": "light"
     },
     "output_type": "display_data"
    }
   ],
   "source": [
    "def Sympy(f,XX,YY):\n",
    "    f=sympy.Add(f)\n",
    "    f=f.subs({x:XX,y:YY})\n",
    "    return float(f)\n",
    "\n",
    "def Taylor (y1,y2,x): # ряд Тейлора\n",
    "    T = 1+h*y1/(factorial(1))*(x-0.5)+(h/2)*y2/(factorial(2))*(x-0.5)**2\n",
    "    return T\n",
    "\n",
    "def Idiff(func): #производная неявной функции\n",
    "    f=sympy.idiff(func,y,x)\n",
    "    return f\n",
    "\n",
    "function = -x*(y**4+1)/(2*(x*y+y)) #1я производная\n",
    "val = Sympy(function,x0,y0)\n",
    "yl.append(val)\n",
    "\n",
    "func1=Idiff(function) #2я производная\n",
    "val=Sympy(func1,x0,y0)\n",
    "yl.append(val)\n",
    "y0=taylor(yl[0],yl[1],x0)\n",
    "YY.append(y0)\n",
    "\n",
    "while abs ( x0 )<2:\n",
    "    x0=x0+h #Изменение x\n",
    "    XX.append(x0)\n",
    "    \n",
    "    y0=taylor(yl[0],yl[1],x0)\n",
    "    YY.append(y0)\n",
    "    \n",
    "    val=Sympy(function,x0,y0) #Замена 1й производной при новом x\n",
    "    yl[0]=val\n",
    "    \n",
    "    val=Sympy(func1,x0,y0) #Замена 2й производной при новом x\n",
    "    yl[1]=val\n",
    "    \n",
    "    \n",
    "plt.plot(XX,YY,'GREEN')\n",
    "plt.title('График.')\n",
    "plt.grid()\n",
    "plt.show()\n",
    "        \n",
    "    "
   ]
  },
  {
   "cell_type": "code",
   "execution_count": null,
   "metadata": {},
   "outputs": [],
   "source": []
  }
 ],
 "metadata": {
  "kernelspec": {
   "display_name": "Python 3",
   "language": "python",
   "name": "python3"
  },
  "language_info": {
   "codemirror_mode": {
    "name": "ipython",
    "version": 3
   },
   "file_extension": ".py",
   "mimetype": "text/x-python",
   "name": "python",
   "nbconvert_exporter": "python",
   "pygments_lexer": "ipython3",
   "version": "3.8.5"
  }
 },
 "nbformat": 4,
 "nbformat_minor": 4
}

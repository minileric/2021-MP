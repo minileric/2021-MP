{
 "cells": [
  {
   "cell_type": "markdown",
   "metadata": {},
   "source": [
    "### Выполнил: Булыгин Л.П гр.428"
   ]
  },
  {
   "cell_type": "markdown",
   "metadata": {},
   "source": [
    "#### Написать в функциональном стиле задачу приближенного вычисления корней функции\n",
    "\n",
    "$$2(xy+y)y'+x(y^4+1)=0$$\n",
    "с точностью $\\epsilon=10^{-12}$"
   ]
  },
  {
   "cell_type": "markdown",
   "metadata": {},
   "source": [
    "#### Подключаем библиотеки:"
   ]
  },
  {
   "cell_type": "code",
   "execution_count": 20,
   "metadata": {},
   "outputs": [],
   "source": [
    "import numpy as np\n",
    "import sympy\n",
    "import matplotlib.pyplot as plt"
   ]
  },
  {
   "cell_type": "markdown",
   "metadata": {},
   "source": [
    "### Указываем начальные условия:"
   ]
  },
  {
   "cell_type": "code",
   "execution_count": 21,
   "metadata": {},
   "outputs": [],
   "source": [
    "x=sympy.symbols('x')\n",
    "y=sympy.Function('y')(x)\n",
    "x00=x0=0.5\n",
    "y00=y0=2\n",
    "h=0.01\n",
    "E=10**(-4)#Точность\n",
    "y_value=[] #Пустой список для 1й и 2й производной\n",
    "t=[x0] #Пустой список для отрисовки(x)\n",
    "yy=[] #Пустой список для отрисовки(y)"
   ]
  },
  {
   "cell_type": "markdown",
   "metadata": {},
   "source": [
    "### Далее идут основные функции и методы:"
   ]
  },
  {
   "cell_type": "code",
   "execution_count": 22,
   "metadata": {},
   "outputs": [
    {
     "data": {
      "image/png": "[encoded data removed]",
      "text/plain": [
       "<Figure size 432x288 with 1 Axes>"
      ]
     },
     "metadata": {
      "needs_background": "light"
     },
     "output_type": "display_data"
    }
   ],
   "source": [
    "def factorial(n): \n",
    "    if n==0:\n",
    "        return 1\n",
    "    return factorial(n-1)\n",
    "\n",
    "def value(f,t,yy): \n",
    "    f=sympy.Add(f)\n",
    "    f=f.subs({x:t,y:yy})\n",
    "    return float(f)\n",
    "\n",
    "def neyavno(func): #Производная неявной функции с y=y(x)\n",
    "    f=sympy.idiff(func,y,x)\n",
    "    return f\n",
    "\n",
    "def Teilor(y1,y2,x): \n",
    "    \n",
    "    return y00+h*y1/factorial(1)*(x-x00)+(h/2)*y2/factorial(2)*(x-x00)**2\n",
    "\n",
    "def delta_X(x,h):\n",
    "    return x+h\n",
    "\n",
    "funcc=-x*(y**4+1)/(2*(x*y+y)) #1я производная\n",
    "\n",
    "val=value(funcc,x0,y0)\n",
    "y_value.append(val)\n",
    "\n",
    "func1=neyavno(funcc) #2я производная\n",
    "\n",
    "val=value(func1,x0,y0)\n",
    "y_value.append(val)\n",
    "\n",
    "y0=Teilor(y_value[0],y_value[1],x0)\n",
    "yy.append(y0)\n",
    "\n",
    "while abs(x0)<2:\n",
    "    \n",
    "    x0=delta_X(x0, h) #Изменение x\n",
    "    t.append(x0)\n",
    "    \n",
    "    y0=Teilor(y_value[0],y_value[1],x0)\n",
    "    yy.append(y0)\n",
    "    \n",
    "    val=value(funcc,x0,y0) #Замена 1й производной при новом x\n",
    "    y_value[0]=val\n",
    "    \n",
    "    val=value(func1,x0,y0) #Замена 2й производной при новом x\n",
    "    y_value[1]=val\n",
    "    \n",
    "plt.plot(t,yy,'red')\n",
    "plt.title('График приближенного вычисления.')\n",
    "plt.grid()\n",
    "plt.show()"
   ]
  },
  {
   "cell_type": "code",
   "execution_count": null,
   "metadata": {},
   "outputs": [],
   "source": []
  }
 ],
 "metadata": {
  "kernelspec": {
   "display_name": "Python 3",
   "language": "python",
   "name": "python3"
  },
  "language_info": {
   "codemirror_mode": {
    "name": "ipython",
    "version": 3
   },
   "file_extension": ".py",
   "mimetype": "text/x-python",
   "name": "python",
   "nbconvert_exporter": "python",
   "pygments_lexer": "ipython3",
   "version": "3.9.0"
  }
 },
 "nbformat": 4,
 "nbformat_minor": 4
}

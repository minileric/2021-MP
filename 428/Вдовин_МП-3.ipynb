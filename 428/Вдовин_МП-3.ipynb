{
 "cells": [
  {
   "cell_type": "code",
   "execution_count": 1,
   "metadata": {},
   "outputs": [],
   "source": [
    "import numpy as np\n",
    "import matplotlib.pyplot as plt\n",
    "import sympy\n",
    "from math import factorial"
   ]
  },
  {
   "cell_type": "code",
   "execution_count": 2,
   "metadata": {},
   "outputs": [],
   "source": [
    "x=sympy.symbols('x')\n",
    "y=sympy.Function('y')(x)\n",
    "\n",
    "x0=0.5       #Начальные данные\n",
    "y0=1\n",
    "h=0.1\n",
    "yl=[] \n",
    "XX=[x0] \n",
    "YY=[] "
   ]
  },
  {
   "cell_type": "code",
   "execution_count": 3,
   "metadata": {},
   "outputs": [],
   "source": [
    "def Idif(func): # Функция для подсчёта производной неявно заданной функции \n",
    "    f=sympy.idif(func,y,x)\n",
    "    return f\n",
    "\n",
    "def Sympy(f,XX,YY): \n",
    "    f=sympy.Add(f)\n",
    "    f=f.subs({x:XX,y:YY})\n",
    "    return float(f)\n",
    "\n",
    "def Teylor(y1,y2,x): #Разложение функции в ряд Тейлора \n",
    "    T = 1+h*y1/(factorial(1))*(x-0.5)+(h/2)*y2/(factorial(2))*(x-0.5)**2\n",
    "    return T"
   ]
  },
  {
   "cell_type": "code",
   "execution_count": 4,
   "metadata": {},
   "outputs": [],
   "source": [
    "func=-x*(y**4+1)/(2*(x*y+y)) #Первая производная\n",
    "val=Sympy(func,x0,y0)\n",
    "yl.append(val)\n",
    "func1=Idif(func) #Вторая производная\n",
    "val=Sympy(func1,x0,y0)\n",
    "yl.append(val)\n",
    "y0=Teylor(yl[0],yl[1],x0)\n",
    "YY.append(y0)"
   ]
  },
  {
   "cell_type": "code",
   "execution_count": null,
   "metadata": {},
   "outputs": [],
   "source": [
    "while abs(x0)<2:\n",
    "    x0=x0+h \n",
    "    XX.append(x0)\n",
    "    y0=Teylor(yl[0],yl[1],x0)\n",
    "    YY.append(y0)\n",
    "    val=Sympy(func,x0,y0) \n",
    "    yl[0]=val\n",
    "    val=Sympy(func1,x0,y0) \n",
    "    yl[1]=val"
   ]
  },
  {
   "cell_type": "code",
   "execution_count": 5,
   "metadata": {},
   "outputs": [
    {
     "data": {
      "image/png": "[encoded data removed]",
      "text/plain": [
       "<Figure size 432x288 with 1 Axes>"
      ]
     },
     "metadata": {
      "needs_background": "light"
     },
     "output_type": "display_data"
    }
   ],
   "source": [
    "plt.plot(XX,YY)\n",
    "plt.grid()"
   ]
  },
  {
   "cell_type": "code",
   "execution_count": null,
   "metadata": {},
   "outputs": [],
   "source": []
  }
 ],
 "metadata": {
  "kernelspec": {
   "display_name": "Python 3",
   "language": "python",
   "name": "python3"
  },
  "language_info": {
   "codemirror_mode": {
    "name": "ipython",
    "version": 3
   },
   "file_extension": ".py",
   "mimetype": "text/x-python",
   "name": "python",
   "nbconvert_exporter": "python",
   "pygments_lexer": "ipython3",
   "version": "3.8.5"
  }
 },
 "nbformat": 4,
 "nbformat_minor": 4
}

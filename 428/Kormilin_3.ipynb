{
 "cells": [
  {
   "cell_type": "markdown",
   "metadata": {},
   "source": [
    "$2(xy+y)y'+x(y^{4}+1)=0; y'=\\frac{-x(y^{4}+1)}{2(xy+y)}; y(0)=1; y'(0.1)=2$"
   ]
  },
  {
   "cell_type": "code",
   "execution_count": 1,
   "metadata": {},
   "outputs": [
    {
     "data": {
      "text/plain": [
       "[<matplotlib.lines.Line2D at 0x2612e108190>]"
      ]
     },
     "execution_count": 1,
     "metadata": {},
     "output_type": "execute_result"
    },
    {
     "data": {
      "image/png": "[encoded data removed]",
      "text/plain": [
       "<Figure size 432x288 with 1 Axes>"
      ]
     },
     "metadata": {
      "needs_background": "light"
     },
     "output_type": "display_data"
    }
   ],
   "source": [
    "import numpy as np\n",
    "import sympy\n",
    "import matplotlib.pyplot as py\n",
    "\n",
    "# Начальные условия: y(0.1)=2\n",
    "x=sympy.symbols('x')\n",
    "y=sympy.Function('y')(x)\n",
    "x00=x0=0.1\n",
    "y00=y0=2\n",
    "h=0.01\n",
    "E=10**(-4)\n",
    "y_value=[] #Лист со значениями первой и второй производной\n",
    "\n",
    "t=[x0] #Лист для отрисовки (аргумент x)\n",
    "yy=[] #Лист для отрисовки (аргумент y)\n",
    "\n",
    "\n",
    "def factorial(n): \n",
    "    if n==0:\n",
    "        return 1\n",
    "    return factorial(n-1)\n",
    "\n",
    "def value(f,t,yy): #Значение sympy функции\n",
    "    f=sympy.Add(f)\n",
    "    f=f.subs({x:t,y:yy})\n",
    "    return float(f)\n",
    "\n",
    "def derivative(func): #Производная неявной функции с y=y(x)\n",
    "    f=sympy.idiff(func,y,x)\n",
    "    return f\n",
    "\n",
    "def Teilor(y1,y2,x):  #Тейлор до второй производной\n",
    "    \n",
    "    return y00+h*y1/factorial(1)*(x-x00)+(h/2)*y2/factorial(2)*(x-x00)**2\n",
    "\n",
    "def delta_X(x,h):\n",
    "    return x+h\n",
    "\n",
    "funcc=-x*(y**4+1)/(2*(x*y+y)) #Первая производная\n",
    "\n",
    "val=value(funcc,x0,y0)\n",
    "y_value.append(val)\n",
    "\n",
    "func1=derivative(funcc) #Вторая производная\n",
    "\n",
    "\n",
    "val=value(func1,x0,y0)\n",
    "y_value.append(val)\n",
    "\n",
    "y0=Teilor(y_value[0],y_value[1],x0)\n",
    "yy.append(y0)\n",
    "\n",
    "while abs(x0)<2:\n",
    "    \n",
    "    x0=delta_X(x0, h) #Изменение x\n",
    "    t.append(x0)\n",
    "    \n",
    "    y0=Teilor(y_value[0],y_value[1],x0)\n",
    "    yy.append(y0)\n",
    "    \n",
    "    val=value(funcc,x0,y0) \n",
    "    y_value[0]=val\n",
    "    \n",
    "    val=value(func1,x0,y0) \n",
    "    y_value[1]=val\n",
    "    \n",
    "py.plot(t,yy)"
   ]
  },
  {
   "cell_type": "code",
   "execution_count": null,
   "metadata": {},
   "outputs": [],
   "source": []
  }
 ],
 "metadata": {
  "kernelspec": {
   "display_name": "Python 3",
   "language": "python",
   "name": "python3"
  },
  "language_info": {
   "codemirror_mode": {
    "name": "ipython",
    "version": 3
   },
   "file_extension": ".py",
   "mimetype": "text/x-python",
   "name": "python",
   "nbconvert_exporter": "python",
   "pygments_lexer": "ipython3",
   "version": "3.8.5"
  }
 },
 "nbformat": 4,
 "nbformat_minor": 4
}

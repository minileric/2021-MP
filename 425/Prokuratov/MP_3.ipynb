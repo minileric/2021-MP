{
 "cells": [
  {
   "cell_type": "markdown",
   "metadata": {},
   "source": [
    "## $$y-xy'=3(1+x^2y')$$"
   ]
  },
  {
   "cell_type": "code",
   "execution_count": 1,
   "metadata": {},
   "outputs": [],
   "source": [
    "import numpy as np\n",
    "import math\n",
    "from sympy import diff, symbols\n",
    "import sympy as sympy\n",
    "a,b,x, y = symbols('a b x y')"
   ]
  },
  {
   "cell_type": "code",
   "execution_count": 2,
   "metadata": {},
   "outputs": [
    {
     "name": "stdout",
     "output_type": "stream",
     "text": [
      "Значение производной  по Y для функции P = 1\n",
      "Значение производной  по X для функции Q = 6*x + 1\n",
      "Так как P  не равно Q,метод полных дифференциалов не применим к нашей функции. Найдем корни стандартным подходом.\n",
      "Наш корень уравнения: 0.1001001001001001\n",
      "None\n"
     ]
    }
   ],
   "source": [
    "def main():\n",
    "    \n",
    "    def f():\n",
    "        return (y-3)/(x+3*x**2)\n",
    "    \n",
    "    def poln1():\n",
    "        P = y-3\n",
    "        a = diff(P,y)\n",
    "        return a\n",
    "    print(\"Значение производной  по Y для функции P =\",poln1())\n",
    "    def poln2():\n",
    "        Q= x+3*x**2\n",
    "        b = diff(Q,x)\n",
    "        return b\n",
    "    print(\"Значение производной  по X для функции Q =\",poln2())\n",
    "    E = 10^(-12) \n",
    "    if a == b:\n",
    "        print(\"Метод полных дифференциалов применим к нашей функции\")\n",
    "    else:\n",
    "        print(\"Так как P  не равно Q,метод полных дифференциалов не применим к нашей функции. Найдем корни стандартным подходом.\")\n",
    "    def f1(y_0):# подсчет интеграла от dy/(y-3)\n",
    "        f = 1/(y_0-3)\n",
    "        i = sympy.integrate(f, y_0)\n",
    "        return i\n",
    "    def f2(x_0):# подсчет интеграла от dx/(x+3x^2)\n",
    "        F = 1/(x_0+3*x_0**2)\n",
    "        j = sympy.integrate(F, x_0)\n",
    "        return j\n",
    "        # выражение будет приведено к виду: ln|y-3| = ln|x/1+3x| + ln|c|\n",
    "    def f3(x1,y1,c):# подсчет логарфмов\n",
    "        q = np.log(y1-3)\n",
    "        w = np.log(x1/(1+3*x1))\n",
    "        e = np.log(c)\n",
    "        return q,w,e\n",
    "        # учитывая, что все функции находятся под логарифмами с одним и тем же основанием, то логарифмы можно убрать.\n",
    "        # y-3 = x/(1+3x) + c1\n",
    "        \n",
    "    def func(o,c1):\n",
    "        return 3*(c1*o +3*o +1)/(3*o-1)\n",
    "    \n",
    "    i=1\n",
    "    o = np.linspace(0,100,1000)\n",
    "    c1 = np.linspace(0,100,1000)\n",
    "    y1=func(o[i],c1)\n",
    "    xi=(o[i])\n",
    "    while xi <= E:\n",
    "        i+=1\n",
    "        y1+=func(o[i],c1)\n",
    "        xi=(o[i])\n",
    "    #print(y1)\n",
    "    print(\"Наш корень уравнения:\",xi)\n",
    "print(main())"
   ]
  },
  {
   "cell_type": "code",
   "execution_count": null,
   "metadata": {},
   "outputs": [],
   "source": []
  }
 ],
 "metadata": {
  "kernelspec": {
   "display_name": "Python 3",
   "language": "python",
   "name": "python3"
  },
  "language_info": {
   "codemirror_mode": {
    "name": "ipython",
    "version": 3
   },
   "file_extension": ".py",
   "mimetype": "text/x-python",
   "name": "python",
   "nbconvert_exporter": "python",
   "pygments_lexer": "ipython3",
   "version": "3.8.5"
  }
 },
 "nbformat": 4,
 "nbformat_minor": 4
}

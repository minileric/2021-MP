{
 "cells": [
  {
   "cell_type": "markdown",
   "metadata": {},
   "source": [
    "# Решить уравнение методом полного дифференциала\n",
    "\n",
    "$$ y-xy^{'}=3(1+x^2y^{'}) $$"
   ]
  },
  {
   "cell_type": "code",
   "execution_count": 1,
   "metadata": {},
   "outputs": [],
   "source": [
    "import numpy as np"
   ]
  },
  {
   "cell_type": "code",
   "execution_count": 2,
   "metadata": {},
   "outputs": [],
   "source": [
    "E=10**-12"
   ]
  },
  {
   "cell_type": "code",
   "execution_count": 3,
   "metadata": {},
   "outputs": [],
   "source": [
    "def y(x,C):\n",
    "    return 3*(C*x+3*x+1)/(3*x+1) # Решение"
   ]
  },
  {
   "cell_type": "markdown",
   "metadata": {},
   "source": [
    "$$y=\\frac{3(Cx+3x+1)}{3x+1}$$"
   ]
  },
  {
   "cell_type": "code",
   "execution_count": 4,
   "metadata": {},
   "outputs": [],
   "source": [
    "def dy(x,C):\n",
    "    return (y(x,C)-3)/(3*x**2+x) # Выразим y'"
   ]
  },
  {
   "cell_type": "markdown",
   "metadata": {},
   "source": [
    "$$y'=\\frac{y-3}{3x^2+x}$$"
   ]
  },
  {
   "cell_type": "code",
   "execution_count": 5,
   "metadata": {},
   "outputs": [],
   "source": [
    "def equation_left(x,C):\n",
    "    return y(x,C)-x*dy(x,y(x,C)) # Левая часть уравнения"
   ]
  },
  {
   "cell_type": "markdown",
   "metadata": {},
   "source": [
    "$$ y-xy^{'} =\\frac{y-3}{3x^2+x} \\ \\ - \\ \\ x\\bullet \\frac{y-3}{3x^2+x}$$"
   ]
  },
  {
   "cell_type": "code",
   "execution_count": 6,
   "metadata": {},
   "outputs": [],
   "source": [
    "def equation_right(x,C):\n",
    "    return 3*(1+np.power(x,2)*dy(x,y(x,C))) # Правая часть уравнения"
   ]
  },
  {
   "cell_type": "markdown",
   "metadata": {},
   "source": [
    "$$3(1+x^2y^{'}) =  3(1+x^2\\bullet 2\\frac{y-3}{3x^2+x})$$"
   ]
  },
  {
   "cell_type": "markdown",
   "metadata": {},
   "source": [
    "#### $$Получили:$$\n",
    "\n",
    "$$\\frac{y-3}{3x^2+x} \\ \\ - \\ \\ x\\bullet \\frac{y-3}{3x^2+x} =3(1+x^2\\bullet 2\\frac{y-3}{3x^2+x}) $$"
   ]
  },
  {
   "cell_type": "code",
   "execution_count": 7,
   "metadata": {},
   "outputs": [],
   "source": [
    "def C2(x,C,h):\n",
    "    if equation_left(x,yf(x,C),dy(x,y(x,C)))- equation_right(x,y(x,C),dy(x,y(x,C))) <0:\n",
    "        h=h/2\n",
    "    C=C-h\n",
    "    return C"
   ]
  },
  {
   "cell_type": "code",
   "execution_count": 8,
   "metadata": {},
   "outputs": [],
   "source": [
    "def F(x,C,h):\n",
    "    while(equation_left(x,C)-(equation_right(x,C))>E):\n",
    "        while(equation_left(x,C)-(equation_right(x,C)<0)):\n",
    "            h=h/2\n",
    "        C=C-h\n",
    "    return C,y(x,C),dy(x,C)"
   ]
  },
  {
   "cell_type": "code",
   "execution_count": 9,
   "metadata": {},
   "outputs": [
    {
     "name": "stdout",
     "output_type": "stream",
     "text": [
      "(20, 21.75, 0.234375)\n"
     ]
    }
   ],
   "source": [
    "print(F(x=5,C=20,h=5))"
   ]
  },
  {
   "cell_type": "code",
   "execution_count": 10,
   "metadata": {},
   "outputs": [
    {
     "name": "stdout",
     "output_type": "stream",
     "text": [
      "0.0\n"
     ]
    }
   ],
   "source": [
    "hy=21.75\n",
    "dyu=0.234375\n",
    "hx=5\n",
    "tt=hy-hx*dyu-3*(1+np.power(hx,2)*dyu)\n",
    "print(tt)"
   ]
  }
 ],
 "metadata": {
  "kernelspec": {
   "display_name": "Python 3",
   "language": "python",
   "name": "python3"
  },
  "language_info": {
   "codemirror_mode": {
    "name": "ipython",
    "version": 3
   },
   "file_extension": ".py",
   "mimetype": "text/x-python",
   "name": "python",
   "nbconvert_exporter": "python",
   "pygments_lexer": "ipython3",
   "version": "3.8.5"
  }
 },
 "nbformat": 4,
 "nbformat_minor": 4
}

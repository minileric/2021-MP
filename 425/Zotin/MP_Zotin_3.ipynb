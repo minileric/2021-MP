{
  "nbformat": 4,
  "nbformat_minor": 0,
  "metadata": {
    "colab": {
      "name": "MP-Zotin-3.ipynb",
      "provenance": [],
      "collapsed_sections": []
    },
    "kernelspec": {
      "name": "python3",
      "display_name": "Python 3"
    },
    "language_info": {
      "name": "python"
    }
  },
  "cells": [
    {
      "cell_type": "markdown",
      "metadata": {
        "id": "7doJFHuHZV2a"
      },
      "source": [
        "##425 группа Зотин А.Э.\n",
        "\n",
        "$$y-xy'=3(1+x^2y')$$\n",
        "с точностью $\\epsilon=10^{-12}$\n",
        "\n"
      ]
    },
    {
      "cell_type": "code",
      "metadata": {
        "id": "5R9MwvFCQYm4"
      },
      "source": [
        "import numpy as np\n",
        "import matplotlib.pyplot as plt\n",
        "import sympy as sp"
      ],
      "execution_count": 23,
      "outputs": []
    },
    {
      "cell_type": "markdown",
      "metadata": {
        "id": "8qgM6ltFSqk7"
      },
      "source": [
        "$$y-xy' = 3(1+x^2y')$$\n",
        "\n",
        "$$y-xy' = 3+3x^2y'$$\n",
        "\n",
        "$$y-3 = y'(x+3x^2)$$\n",
        "\n",
        "$$y' = \\frac{y-3}{x+3x^2}$$\n",
        "_______________________________________________________________\n",
        "\n"
      ]
    },
    {
      "cell_type": "code",
      "metadata": {
        "colab": {
          "base_uri": "https://localhost:8080/"
        },
        "id": "QQmow9TSiLIi",
        "outputId": "7436a6a3-be62-4e76-a0ac-626788a8113a"
      },
      "source": [
        "from sympy import diff, symbols\n",
        "a,b,x,y = symbols('a b x y')\n",
        "\n",
        "def dP():\n",
        "    P = y-3\n",
        "    a = diff(P,y)\n",
        "    return a\n",
        "print(\"dP/dy =\",dP())\n",
        "def dQ():\n",
        "    Q= x+3*x**2\n",
        "    b = diff(Q,x)\n",
        "    return b\n",
        "print(\"dQ/dx =\",dQ())\n",
        "E = 10^(-12) "
      ],
      "execution_count": 28,
      "outputs": [
        {
          "output_type": "stream",
          "text": [
            "dP/dy = 1\n",
            "dQ/dx = 6*x + 1\n"
          ],
          "name": "stdout"
        }
      ]
    },
    {
      "cell_type": "markdown",
      "metadata": {
        "id": "36AQ2K91ibZV"
      },
      "source": [
        "т.к. $\\frac{dP}{dy} \\ne \\frac{dQ}{dx}  \\implies$ ур-е не является уравнением в полных дифференциалах\n",
        "_______________________________________________________________\n",
        "$$\\frac{dy}{dx} = \\frac{y-3}{x+3x^2}$$\n",
        "\n",
        "$$\\frac{dy}{y-3} = \\frac{dx}{x+3x^2}$$\n",
        "\n",
        "$$ln|y-3| = ln|x| - ln|1+3x| + C^*$$\n",
        "\n",
        "$$e^{ln|y-3|} = e^{ln|\\frac{x}{1+3x}|} + e^{C^*}$$\n",
        "\n",
        "$$y-3 = \\frac{x}{1+3x} + C$$\n",
        "\n",
        "$$y = \\frac{3+10x+3Cx+C}{1+3x}$$\n",
        "_______________________________________________________________"
      ]
    },
    {
      "cell_type": "code",
      "metadata": {
        "colab": {
          "base_uri": "https://localhost:8080/",
          "height": 571
        },
        "id": "is3Jj_xtQgLP",
        "outputId": "b013386f-7cd9-455c-f4cd-6dcfee895a3a"
      },
      "source": [
        "def Graph():\n",
        "    fig, axes = plt.subplots(nrows = 2, ncols = 1)\n",
        "    x=np.linspace(-100,100,1000)\n",
        "    C=np.linspace(-100,100,1000)\n",
        "    axes[0].plot(x,func(x,C))\n",
        "    axes[0].grid(True)\n",
        "    x=np.linspace(-20,20,1000)\n",
        "    C=np.linspace(-20,20,1000)\n",
        "    axes[1].plot(x,func(x,C))\n",
        "    axes[1].grid(True)\n",
        "    fig.set_figwidth(9)  \n",
        "    fig.set_figheight(9)\n",
        "    plt.show()\n",
        "\n",
        "def func(x,C):\n",
        "    return (3+10*x+3*C*x+C)/(3*x+1)\n",
        "\n",
        "\n",
        "def Approximate_Calculation():\n",
        "    E = 10^(-12) \n",
        "    dotx,doty=[],[]\n",
        "\n",
        "    i=1\n",
        "    x = np.linspace(-100,100,1000)\n",
        "    С = np.linspace(-100,100,1000)\n",
        "    y1=func(x,С)\n",
        "    xi=(x[i])\n",
        "    while xi<E:\n",
        "        i+=1\n",
        "        y1+=func(x[i],С)\n",
        "        xi=(x[i])\n",
        "    Graph()\n",
        "    print(\"Ответ:\",xi)\n",
        "\n",
        "\n",
        "print(Approximate_Calculation())"
      ],
      "execution_count": 85,
      "outputs": [
        {
          "output_type": "display_data",
          "data": {
            "image/png": "[encoded data removed]",
            "text/plain": [
              "<Figure size 648x648 with 2 Axes>"
            ]
          },
          "metadata": {
            "tags": [],
            "needs_background": "light"
          }
        },
        {
          "output_type": "stream",
          "text": [
            "Ответ: -1.9019019019018941\n",
            "None\n"
          ],
          "name": "stdout"
        }
      ]
    }
  ]
}
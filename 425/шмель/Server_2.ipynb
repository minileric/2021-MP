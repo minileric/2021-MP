{
 "cells": [
  {
   "cell_type": "code",
   "execution_count": 5,
   "metadata": {},
   "outputs": [
    {
     "name": "stdout",
     "output_type": "stream",
     "text": [
      "Server hosting on IP-> 192.168.0.101\n"
     ]
    },
    {
     "ename": "OSError",
     "evalue": "[WinError 10048] Обычно разрешается только одно использование адреса сокета (протокол/сетевой адрес/порт)",
     "output_type": "error",
     "traceback": [
      "\u001b[1;31m---------------------------------------------------------------------------\u001b[0m",
      "\u001b[1;31mOSError\u001b[0m                                   Traceback (most recent call last)",
      "\u001b[1;32m<ipython-input-5-bf94c5362715>\u001b[0m in \u001b[0;36m<module>\u001b[1;34m\u001b[0m\n\u001b[0;32m     59\u001b[0m \u001b[1;33m\u001b[0m\u001b[0m\n\u001b[0;32m     60\u001b[0m \u001b[0mserver\u001b[0m \u001b[1;33m=\u001b[0m \u001b[0mServer\u001b[0m\u001b[1;33m(\u001b[0m\u001b[0mhost\u001b[0m\u001b[1;33m,\u001b[0m \u001b[0mport\u001b[0m\u001b[1;33m,\u001b[0m \u001b[0mrecvPackets\u001b[0m\u001b[1;33m)\u001b[0m\u001b[1;33m\u001b[0m\u001b[1;33m\u001b[0m\u001b[0m\n\u001b[1;32m---> 61\u001b[1;33m \u001b[0mserver\u001b[0m\u001b[1;33m.\u001b[0m\u001b[0mRunServ\u001b[0m\u001b[1;33m(\u001b[0m\u001b[1;33m)\u001b[0m\u001b[1;33m\u001b[0m\u001b[1;33m\u001b[0m\u001b[0m\n\u001b[0m",
      "\u001b[1;32m<ipython-input-5-bf94c5362715>\u001b[0m in \u001b[0;36mRunServ\u001b[1;34m(self)\u001b[0m\n\u001b[0;32m     28\u001b[0m         \u001b[0mprint\u001b[0m\u001b[1;33m(\u001b[0m\u001b[1;34m'Server hosting on IP-> '\u001b[0m\u001b[1;33m+\u001b[0m\u001b[0mstr\u001b[0m\u001b[1;33m(\u001b[0m\u001b[0mself\u001b[0m\u001b[1;33m.\u001b[0m\u001b[0mhost\u001b[0m\u001b[1;33m)\u001b[0m\u001b[1;33m)\u001b[0m\u001b[1;33m\u001b[0m\u001b[1;33m\u001b[0m\u001b[0m\n\u001b[0;32m     29\u001b[0m         \u001b[0ms\u001b[0m \u001b[1;33m=\u001b[0m \u001b[0msocket\u001b[0m\u001b[1;33m.\u001b[0m\u001b[0msocket\u001b[0m\u001b[1;33m(\u001b[0m\u001b[0msocket\u001b[0m\u001b[1;33m.\u001b[0m\u001b[0mAF_INET\u001b[0m\u001b[1;33m,\u001b[0m\u001b[0msocket\u001b[0m\u001b[1;33m.\u001b[0m\u001b[0mSOCK_DGRAM\u001b[0m\u001b[1;33m)\u001b[0m\u001b[1;33m\u001b[0m\u001b[1;33m\u001b[0m\u001b[0m\n\u001b[1;32m---> 30\u001b[1;33m         \u001b[0ms\u001b[0m\u001b[1;33m.\u001b[0m\u001b[0mbind\u001b[0m\u001b[1;33m(\u001b[0m\u001b[1;33m(\u001b[0m\u001b[0mself\u001b[0m\u001b[1;33m.\u001b[0m\u001b[0mhost\u001b[0m\u001b[1;33m,\u001b[0m\u001b[0mself\u001b[0m\u001b[1;33m.\u001b[0m\u001b[0mport\u001b[0m\u001b[1;33m)\u001b[0m\u001b[1;33m)\u001b[0m\u001b[1;33m\u001b[0m\u001b[1;33m\u001b[0m\u001b[0m\n\u001b[0m\u001b[0;32m     31\u001b[0m         \u001b[0mtm\u001b[0m \u001b[1;33m=\u001b[0m \u001b[0mdatetime\u001b[0m\u001b[1;33m.\u001b[0m\u001b[0mdatetime\u001b[0m\u001b[1;33m.\u001b[0m\u001b[0mtoday\u001b[0m\u001b[1;33m(\u001b[0m\u001b[1;33m)\u001b[0m\u001b[1;33m.\u001b[0m\u001b[0mstrftime\u001b[0m\u001b[1;33m(\u001b[0m\u001b[1;34m\"%d-%m-%Y runtime-%H:%M\"\u001b[0m\u001b[1;33m)\u001b[0m\u001b[1;33m\u001b[0m\u001b[1;33m\u001b[0m\u001b[0m\n\u001b[0;32m     32\u001b[0m         \u001b[1;32mwith\u001b[0m \u001b[0mopen\u001b[0m\u001b[1;33m(\u001b[0m\u001b[1;34m'logs.txt'\u001b[0m\u001b[1;33m,\u001b[0m \u001b[1;34m'a'\u001b[0m\u001b[1;33m)\u001b[0m \u001b[1;32mas\u001b[0m \u001b[0mfile\u001b[0m\u001b[1;33m:\u001b[0m\u001b[1;33m\u001b[0m\u001b[1;33m\u001b[0m\u001b[0m\n",
      "\u001b[1;31mOSError\u001b[0m: [WinError 10048] Обычно разрешается только одно использование адреса сокета (протокол/сетевой адрес/порт)"
     ]
    }
   ],
   "source": [
    "import socket # библиотека для обмена сокетами\n",
    "import threading\n",
    "import queue\n",
    "import datetime\n",
    "import sys # библиотека для работы с системными функциями\n",
    "import random # библиотека для работы с рандомом\n",
    "import os # библиотека для работы с операционной системой \n",
    "\n",
    "\n",
    "host = socket.gethostbyname(socket.gethostname())\n",
    "port = 5000\n",
    "recvPackets = queue.Queue()\n",
    "\n",
    "class Server:\n",
    "    def __init__(self, host, port,  recvPackets):\n",
    "        self.host = host\n",
    "        self.port = port\n",
    "        self.recvPackets = recvPackets\n",
    "    \n",
    "    def RecvData(self,sock,recvPackets):\n",
    "        while True:\n",
    "            data,addr = sock.recvfrom(1024)\n",
    "            recvPackets.put((data,addr))\n",
    "    #f = open('log.txt','w')\n",
    "    \n",
    "    \n",
    "    def RunServ(self):#,host,port,recvPackets):\n",
    "        print('Server hosting on IP-> '+str(self.host))\n",
    "        s = socket.socket(socket.AF_INET,socket.SOCK_DGRAM)\n",
    "        s.bind((self.host,self.port))\n",
    "        tm = datetime.datetime.today().strftime(\"%d-%m-%Y runtime-%H:%M\")\n",
    "        with open('logs.txt', 'a') as file:\n",
    "            file.write('\\n'+'__________'+tm+'__________'+'\\n')\n",
    "        clients = set()\n",
    "        print('Server Running...\\nConnection complete.')\n",
    "        \n",
    "        threading.Thread(target=self.RecvData,args=(s,recvPackets)).start()\n",
    "        \n",
    "        while True:\n",
    "            while not recvPackets.empty():\n",
    "                data,addr = recvPackets.get()\n",
    "                if addr not in clients:\n",
    "                    clients.add(addr)\n",
    "                    continue\n",
    "                clients.add(addr)\n",
    "                data = data.decode('utf-8')\n",
    "                if data.endswith('qqq'):\n",
    "                    clients.remove(addr)\n",
    "                    continue\n",
    "                r = str(addr)+' '+data\n",
    "                print(r)\n",
    "                with open('logs.txt', 'a') as file:\n",
    "                    file.write(r+'\\n')\n",
    "                for c in clients:\n",
    "                    if c!=addr:\n",
    "                        s.sendto(data.encode('utf-8'),c)\n",
    "        s.close()\n",
    "\n",
    "\n",
    "server = Server(host, port, recvPackets)\n",
    "server.RunServ()"
   ]
  },
  {
   "cell_type": "code",
   "execution_count": null,
   "metadata": {},
   "outputs": [],
   "source": []
  },
  {
   "cell_type": "code",
   "execution_count": null,
   "metadata": {},
   "outputs": [],
   "source": []
  }
 ],
 "metadata": {
  "kernelspec": {
   "display_name": "Python 3",
   "language": "python",
   "name": "python3"
  },
  "language_info": {
   "codemirror_mode": {
    "name": "ipython",
    "version": 3
   },
   "file_extension": ".py",
   "mimetype": "text/x-python",
   "name": "python",
   "nbconvert_exporter": "python",
   "pygments_lexer": "ipython3",
   "version": "3.8.5"
  }
 },
 "nbformat": 4,
 "nbformat_minor": 4
}

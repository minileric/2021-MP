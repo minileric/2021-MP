{
 "cells": [
  {
   "cell_type": "code",
   "execution_count": 1,
   "metadata": {},
   "outputs": [],
   "source": [
    "import numpy as np \n",
    "import math \n",
    "from sympy import diff, symbols \n",
    "import sympy as sympy \n",
    "a,b,x,y = symbols('a b x y ')\n",
    "E=10**(-12)"
   ]
  },
  {
   "cell_type": "code",
   "execution_count": 2,
   "metadata": {
    "scrolled": true
   },
   "outputs": [],
   "source": [
    "def f():\n",
    "    return (y-3)/(x+3*x**2) "
   ]
  },
  {
   "cell_type": "code",
   "execution_count": 3,
   "metadata": {},
   "outputs": [
    {
     "name": "stdout",
     "output_type": "stream",
     "text": [
      "Частная производная P= 0\n"
     ]
    }
   ],
   "source": [
    "def p1():\n",
    "    P=1/(3*x**2+1)\n",
    "    a = diff(P,y) \n",
    "    return a\n",
    "print('Частная производная P=',p1())"
   ]
  },
  {
   "cell_type": "code",
   "execution_count": 4,
   "metadata": {},
   "outputs": [
    {
     "name": "stdout",
     "output_type": "stream",
     "text": [
      "Частная производная Q= 0\n"
     ]
    }
   ],
   "source": [
    "def p2():\n",
    "    Q=1/y-3\n",
    "    b=diff(Q,x)\n",
    "    return b\n",
    "print('Частная производная Q=',p2())"
   ]
  },
  {
   "cell_type": "code",
   "execution_count": 5,
   "metadata": {},
   "outputs": [
    {
     "name": "stdout",
     "output_type": "stream",
     "text": [
      "Является уравнением в полных дифференциалах \n"
     ]
    }
   ],
   "source": [
    "if p1() == p2(): \n",
    "    print(\"Является уравнением в полных дифференциалах \") \n",
    "else:\n",
    "    print('Не является уравнением в полных дифференциалах')\n",
    "        "
   ]
  },
  {
   "cell_type": "code",
   "execution_count": 6,
   "metadata": {},
   "outputs": [],
   "source": [
    "def F1(x):\n",
    "    F1= 1/(x+3*x**2) \n",
    "    i = sympy.integrate(F1, x) \n",
    "    return i \n"
   ]
  },
  {
   "cell_type": "code",
   "execution_count": 7,
   "metadata": {},
   "outputs": [],
   "source": [
    "def F2(y): \n",
    "    F2=1/(y-3) \n",
    "    i = sympy.integrate(F2, y) \n",
    "    return i \n"
   ]
  },
  {
   "cell_type": "code",
   "execution_count": 8,
   "metadata": {},
   "outputs": [
    {
     "name": "stdout",
     "output_type": "stream",
     "text": [
      "log(y - 3) = log(x) - log(x + 1/3) +ln|C|\n"
     ]
    }
   ],
   "source": [
    "print(F2(y),'=',F1(x),'+ln|C|')\n",
    "\n",
    "\n"
   ]
  },
  {
   "cell_type": "code",
   "execution_count": 10,
   "metadata": {},
   "outputs": [
    {
     "name": "stdout",
     "output_type": "stream",
     "text": [
      "Наш корень уравнения: 0.1001001001001001\n"
     ]
    }
   ],
   "source": [
    "def func(o,c1): \n",
    "    return 3*(c1*o +3*o +1)/(3*o-1) \n",
    "\n",
    "i=1 \n",
    "o = np.linspace(0,100,1000) \n",
    "c1 = np.linspace(0,100,1000) \n",
    "y1=func(o[i],c1) \n",
    "xi=(o[i]) \n",
    "while xi <= E: \n",
    "    i+=1 \n",
    "    y1+=func(o[i],c1) \n",
    "    xi=(o[i]) \n",
    "print(\"Наш корень уравнения:\",xi) \n"
   ]
  },
  {
   "cell_type": "code",
   "execution_count": null,
   "metadata": {},
   "outputs": [],
   "source": []
  },
  {
   "cell_type": "code",
   "execution_count": null,
   "metadata": {},
   "outputs": [],
   "source": []
  }
 ],
 "metadata": {
  "kernelspec": {
   "display_name": "Python 3",
   "language": "python",
   "name": "python3"
  },
  "language_info": {
   "codemirror_mode": {
    "name": "ipython",
    "version": 3
   },
   "file_extension": ".py",
   "mimetype": "text/x-python",
   "name": "python",
   "nbconvert_exporter": "python",
   "pygments_lexer": "ipython3",
   "version": "3.8.3"
  }
 },
 "nbformat": 4,
 "nbformat_minor": 4
}
